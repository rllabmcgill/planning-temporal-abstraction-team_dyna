{
  "nbformat": 4,
  "nbformat_minor": 0,
  "metadata": {
    "colab": {
      "name": "dyna-q.ipynb",
      "version": "0.3.2",
      "views": {},
      "default_view": {},
      "provenance": [],
      "collapsed_sections": []
    },
    "kernelspec": {
      "name": "python2",
      "display_name": "Python 2"
    }
  },
  "cells": [
    {
      "metadata": {
        "id": "sir-6IcgQLJ1",
        "colab_type": "text"
      },
      "cell_type": "markdown",
      "source": [
        "**Rithesh Kumar** \\\\\n",
        "**Sai Krishna** \\\\\n",
        "\n",
        "Assignment-3: Track1: Dyna-Q"
      ]
    },
    {
      "metadata": {
        "id": "CMTLQhH6S5z7",
        "colab_type": "text"
      },
      "cell_type": "markdown",
      "source": [
        "**Experience replay:** \n",
        "* It is a method to speed up the credit propagation process and/or to shorten the trial and error process.\n",
        "* An \"experience\" is a quadraple (s,a,s',r).\n",
        "* A \"lesson\" is a temporal sequence of experiences starting from an initial state to a final state, where the goal may or may not be acheived. Here, our agent simply remembers its past experiences and repeatedly presents the experiences to the algorithm as if the agent had experienced it again and again. As a result, the process of credit/blame propagation is sped up and hence networks converge more quickly. \\\\\n",
        "\n",
        "**Dyna-Q:** \\\\\n",
        "Dyna-Q includes all of the processes: planning, acting, model-learning and direct RL- all occurring continually. \\\\\n",
        "* The planning method is the random-sample one-step tabular Q-planning method. \\\\\n",
        "* The direct RL method is one step tabular Q-learning. \\\\\n",
        "\n",
        "The model-learning method is also table-based and assumes that the world is deterministic. After each transition $S_t$, $A_t$ --> $R_{t+1}$, $S_{t+1}$, the model records in its table entries in the corresponding cell. So, if the model is queried with a state-action pair that has been experienced before, it simply returns the last-observed next state and next reward as its prediction. \\\\\n",
        "During planning, the Q-planning algorithm randomly samples only from state-action pairs that have previously been experienced, so the model is never queried with a pair about which it has no information. \\\\\n",
        "\n",
        "**Relation between Experience Replay and Model in Dyna-Q**:\n",
        "* In experience replay, we keep track of (s, a, r, s') for places that are visited.\n",
        "* When a model is being learnt using tabular method in deterministic environment, P(s', r| s, a) becomes a tabular entry of T[s, a] = s', r, which is exactly the same as the experience replay paradigm.\n",
        "\n",
        "**Key learnings from the assignment:** \\\\\n",
        "* We got different results when we run the same experiment with same hyperparameters. This led us to believe that initialization plays a key role in most RL algorithms. \\\\\n",
        "* We initially ran our experiments with $\\epsilon$ = 0.1, but it failed to converge for blocking_maze_two, probably indicating the lack of enough exploration. \\\\\n",
        "* We then ran our experiments with $\\epsilon$ = 0.15, 0.2, 0.25, 0.3, 0.35, 0.4, 0.45, 0.5. But, in failed to obtain a true balance between exploration and exploitation in all of these cases. \\\\\n",
        "* So, we used a schedule for $\\epsilon$ starting with $\\epsilon$ = 0.5 for 500 steps and reducing it to $\\epsilon$ = 0.1 for the rest of the timesteps, along with the learning rate alpha set to 1.\n",
        "* In general, for small grid worlds like this, $\\alpha$ = 0.1 and $\\gamma$ = 0.95 are decent choices to make"
      ]
    },
    {
      "metadata": {
        "id": "WwymUvGziCOQ",
        "colab_type": "code",
        "colab": {
          "autoexec": {
            "startup": false,
            "wait_interval": 0
          },
          "output_extras": [
            {
              "item_id": 5
            }
          ],
          "base_uri": "https://localhost:8080/",
          "height": 139
        },
        "outputId": "fe87306b-7758-468c-cf3f-3b87721c86f7",
        "executionInfo": {
          "status": "ok",
          "timestamp": 1519685811503,
          "user_tz": 300,
          "elapsed": 4029,
          "user": {
            "displayName": "Rithesh Kumar",
            "photoUrl": "//lh5.googleusercontent.com/-VGc2wPhGPi4/AAAAAAAAAAI/AAAAAAAAB6I/vpltgbrdB3w/s50-c-k-no/photo.jpg",
            "userId": "103541296802299572143"
          }
        }
      },
      "cell_type": "code",
      "source": [
        "! pip install git+https://github.com/deepmind/pycolab.git"
      ],
      "execution_count": 2,
      "outputs": [
        {
          "output_type": "stream",
          "text": [
            "Collecting git+https://github.com/deepmind/pycolab.git\r\n",
            "  Cloning https://github.com/deepmind/pycolab.git to /tmp/pip-X45Zpl-build\n",
            "Requirement already satisfied: numpy>=1.9 in /usr/local/lib/python2.7/dist-packages (from pycolab==1.0)\n",
            "Requirement already satisfied: six in /usr/local/lib/python2.7/dist-packages (from pycolab==1.0)\n",
            "Installing collected packages: pycolab\n",
            "  Running setup.py install for pycolab ... \u001b[?25l-\b \bdone\n",
            "\u001b[?25hSuccessfully installed pycolab-1.0\n"
          ],
          "name": "stdout"
        }
      ]
    },
    {
      "metadata": {
        "id": "pYhHmPdun9Ti",
        "colab_type": "code",
        "colab": {
          "autoexec": {
            "startup": false,
            "wait_interval": 0
          }
        }
      },
      "cell_type": "code",
      "source": [
        "import numpy as np\n",
        "from pycolab import ascii_art\n",
        "from pycolab.prefab_parts import sprites as prefab_sprites\n",
        "import numpy as np\n",
        "%matplotlib inline\n",
        "import matplotlib.pyplot as plt"
      ],
      "execution_count": 0,
      "outputs": []
    },
    {
      "metadata": {
        "id": "G-q1d4Lvh5X2",
        "colab_type": "code",
        "colab": {
          "autoexec": {
            "startup": false,
            "wait_interval": 0
          }
        }
      },
      "cell_type": "code",
      "source": [
        "BLOCKING_MAZE_ONE = ['###########',\n",
        "                     '#         #',\n",
        "                     '#         #',\n",
        "                     '#         #',\n",
        "                     '######### #',\n",
        "                     '#         #',\n",
        "                     '#   P     #',\n",
        "                     '###########',\n",
        "                     ]\n",
        "\n",
        "BLOCKING_MAZE_TWO = ['###########',\n",
        "                     '#         #',\n",
        "                     '#         #',\n",
        "                     '#         #',\n",
        "                     '# #########',\n",
        "                     '#         #',\n",
        "                     '#   P     #',\n",
        "                     '###########',\n",
        "                     ]\n",
        "\n",
        "SHORTCUT_MAZE_ONE = ['###########',\n",
        "                     '#         #',\n",
        "                     '#         #',\n",
        "                     '#         #',\n",
        "                     '# #########',\n",
        "                     '#         #',\n",
        "                     '#   P     #',\n",
        "                     '###########',\n",
        "                     ]\n",
        "\n",
        "SHORTCUT_MAZE_TWO = ['###########',\n",
        "                     '#         #',\n",
        "                     '#         #',\n",
        "                     '#         #',\n",
        "                     '# ####### #',\n",
        "                     '#         #',\n",
        "                     '#   P     #',\n",
        "                     '###########',\n",
        "                     ]\n",
        "\n",
        "\n",
        "class PlayerSprite(prefab_sprites.MazeWalker):\n",
        "    def __init__(self, corner, position, character):\n",
        "        \"\"\"Inform superclass that we can't walk through walls.\"\"\"\n",
        "        super(PlayerSprite, self).__init__(\n",
        "            corner, position, character, impassable='#')\n",
        "\n",
        "    def update(self, actions, board, layers, backdrop, things, the_plot):\n",
        "        del layers, backdrop, things  # Unused\n",
        "\n",
        "        # Apply motion commands.\n",
        "        if actions == 0:  # walk up\n",
        "            self._north(board, the_plot)\n",
        "        elif actions == 1:  # walk down\n",
        "            self._south(board, the_plot)\n",
        "        elif actions == 2:  # walk left\n",
        "            self._west(board, the_plot)\n",
        "        elif actions == 3:  # walk right\n",
        "            self._east(board, the_plot)\n",
        "\n",
        "        # See if we've found the goal spot.\n",
        "        if self.position == (1, 9):\n",
        "            the_plot.add_reward(1.0)\n",
        "            the_plot.terminate_episode()\n",
        "        else:\n",
        "            the_plot.add_reward(0)\n",
        "\n",
        "\n",
        "def make_game(GAME_ART):\n",
        "    return ascii_art.ascii_art_to_game(\n",
        "        GAME_ART, what_lies_beneath=' ',\n",
        "        sprites={'P': PlayerSprite})\n",
        "\n",
        "\n",
        "class Env(object):\n",
        "    def __init__(self, game_art_start, game_art_end, cliff=3000):\n",
        "        self.timesteps = 0\n",
        "        self.cliff = cliff\n",
        "        self.game_art_start = game_art_start\n",
        "        self.game_art_end = game_art_end\n",
        "        self.reset()\n",
        "\n",
        "    def reset(self):\n",
        "        art = self.game_art_start if self.timesteps <= self.cliff else self.game_art_end\n",
        "        self.game = ascii_art.ascii_art_to_game(\n",
        "            art, what_lies_beneath=' ',\n",
        "            sprites={'P': PlayerSprite}\n",
        "        )\n",
        "        obs, reward, terminal = self.game.its_showtime()\n",
        "        state = np.asarray(obs.layers['P'], dtype='int')\n",
        "        state = ''.join(map(str, state.flatten().tolist()))\n",
        "        return state, reward, terminal == 0\n",
        "\n",
        "    def step(self, action):\n",
        "        self.timesteps += 1\n",
        "        obs, reward, terminal = self.game.play(action)\n",
        "        state = np.asarray(obs.layers['P'], dtype='int')\n",
        "        state = ''.join(map(str, state.flatten().tolist()))\n",
        "        return state, reward, terminal == 0\n",
        "\n",
        "\n",
        "class DynaQ(object):\n",
        "    def __init__(self, n_actions=4):\n",
        "        self.n_actions = n_actions\n",
        "        self.Model = {}\n",
        "        self.Q = {}\n",
        "        \n",
        "        # Hyperparameters\n",
        "        self.alpha = 1\n",
        "        self.epsilon = 0.1\n",
        "        self.gamma = 0.95\n",
        "\n",
        "    def update_model(self, s, a, r, s_dash):\n",
        "        if s in self.Model:\n",
        "            if not type(self.Model[s]) == dict:\n",
        "                self.Model[s] = {}\n",
        "            self.Model[s][a] = (r, s_dash)\n",
        "        else:\n",
        "            self.Model[s] = {a: (r, s_dash)}\n",
        "\n",
        "    def sample_model(self):\n",
        "        s = np.random.choice(self.Model.keys())\n",
        "        a = np.random.choice(self.Model[s].keys())\n",
        "        r, s_dash = self.Model[s][a]\n",
        "        return s, a, r, s_dash\n",
        "      \n",
        "    def update_q(self, s, a, r, s_dash):\n",
        "        if s_dash not in self.Q:\n",
        "            self.Q[s_dash] = np.zeros(self.n_actions)\n",
        "          \n",
        "        self.Q[s][a] += self.alpha * (r + self.gamma * self.Q[s_dash].max() - self.Q[s][a])\n",
        "\n",
        "    def sample_q(self, s):\n",
        "        if s not in self.Q:\n",
        "            self.Q[s] = np.zeros(self.n_actions)\n",
        "\n",
        "        if np.random.rand() < self.epsilon:\n",
        "            a = np.random.choice(self.n_actions)\n",
        "        else:\n",
        "            a = np.random.choice(np.flatnonzero(self.Q[s] == self.Q[s].max()))\n",
        "\n",
        "        return a\n",
        "\n",
        "      \n",
        "def learn(maze_one, maze_two, cliff, n_steps=6000, n_imaginations=50):\n",
        "    alg = DynaQ()\n",
        "    env = Env(maze_one, maze_two, cliff)\n",
        "    epsilon_schedule = [.5]*500 + [.1]* 5500\n",
        "\n",
        "    s, _, _ = env.reset()\n",
        "    rewards = []\n",
        "    for i in xrange(n_steps):\n",
        "        alg.epsilon = epsilon_schedule[i]\n",
        "        a = alg.sample_q(s)\n",
        "        s_dash, r, terminal = env.step(a)\n",
        "        alg.update_q(s, a, r, s_dash)\n",
        "        alg.update_model(s, a, r, s_dash)\n",
        "        \n",
        "        rewards.append(r)\n",
        "        \n",
        "        for j in xrange(n_imaginations):\n",
        "            experience = alg.sample_model()\n",
        "            alg.update_q(*experience)\n",
        "\n",
        "        if terminal == True:\n",
        "            s, _, _ = env.reset()\n",
        "        else:\n",
        "            s = s_dash\n",
        "    return rewards    "
      ],
      "execution_count": 0,
      "outputs": []
    },
    {
      "metadata": {
        "id": "0BgO_ptZ0qy7",
        "colab_type": "code",
        "colab": {
          "autoexec": {
            "startup": false,
            "wait_interval": 0
          },
          "output_extras": [
            {
              "item_id": 1
            }
          ],
          "base_uri": "https://localhost:8080/",
          "height": 280
        },
        "outputId": "4087fd3a-5934-401f-b3c3-b774f71bffbe",
        "executionInfo": {
          "status": "ok",
          "timestamp": 1519686573947,
          "user_tz": 300,
          "elapsed": 3520,
          "user": {
            "displayName": "Rithesh Kumar",
            "photoUrl": "//lh5.googleusercontent.com/-VGc2wPhGPi4/AAAAAAAAAAI/AAAAAAAAB6I/vpltgbrdB3w/s50-c-k-no/photo.jpg",
            "userId": "103541296802299572143"
          }
        }
      },
      "cell_type": "code",
      "source": [
        "arr = learn(BLOCKING_MAZE_ONE, BLOCKING_MAZE_TWO, 1000, n_steps=3000)\n",
        "plt.plot(np.cumsum(arr))\n",
        "_ = plt.title(\"Dyna-Q for Blocking Maze where shortcut is opened after 1000 steps\")"
      ],
      "execution_count": 51,
      "outputs": [
        {
          "output_type": "display_data",
          "data": {
            "image/png": "[encoded data removed]",
            "text/plain": [
              "<matplotlib.figure.Figure at 0x7fc4bc84ee90>"
            ]
          },
          "metadata": {
            "tags": []
          }
        }
      ]
    },
    {
      "metadata": {
        "id": "hvLBJdLviArq",
        "colab_type": "code",
        "colab": {
          "autoexec": {
            "startup": false,
            "wait_interval": 0
          },
          "output_extras": [
            {
              "item_id": 1
            }
          ],
          "base_uri": "https://localhost:8080/",
          "height": 280
        },
        "outputId": "e9f50e72-f212-48c5-8234-8393b959bb99",
        "executionInfo": {
          "status": "ok",
          "timestamp": 1519686607351,
          "user_tz": 300,
          "elapsed": 6737,
          "user": {
            "displayName": "Rithesh Kumar",
            "photoUrl": "//lh5.googleusercontent.com/-VGc2wPhGPi4/AAAAAAAAAAI/AAAAAAAAB6I/vpltgbrdB3w/s50-c-k-no/photo.jpg",
            "userId": "103541296802299572143"
          }
        }
      },
      "cell_type": "code",
      "source": [
        "arr = learn(SHORTCUT_MAZE_ONE, SHORTCUT_MAZE_TWO, 3000)\n",
        "plt.plot(np.cumsum(arr))\n",
        "_ = plt.title(\"Dyna-Q for Shortcut Maze where shortcut is opened after 3000 steps\")"
      ],
      "execution_count": 53,
      "outputs": [
        {
          "output_type": "display_data",
          "data": {
            "image/png": "[encoded data removed]",
            "text/plain": [
              "<matplotlib.figure.Figure at 0x7fc4b8594650>"
            ]
          },
          "metadata": {
            "tags": []
          }
        }
      ]
    }
  ]
}